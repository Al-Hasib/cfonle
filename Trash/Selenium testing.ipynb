{
 "cells": [
  {
   "cell_type": "code",
   "execution_count": 9,
   "id": "af19bf92-6c14-4382-8aa6-74708ad83c3f",
   "metadata": {},
   "outputs": [
    {
     "data": {
      "text/plain": [
       "'C:\\\\Users\\\\Acer\\\\.wdm\\\\drivers\\\\chromedriver\\\\win64\\\\127.0.6533.119\\\\chromedriver-win32/chromedriver.exe'"
      ]
     },
     "execution_count": 9,
     "metadata": {},
     "output_type": "execute_result"
    }
   ],
   "source": [
    "path = ChromeDriverManager().install()\n",
    "path = path.replace(\"THIRD_PARTY_NOTICES.chromedriver\", \"chromedriver.exe\")\n",
    "path"
   ]
  },
  {
   "cell_type": "code",
   "execution_count": 10,
   "id": "cffeac4f-d04c-4b4e-8b95-5f0c26dd0a6e",
   "metadata": {},
   "outputs": [
    {
     "data": {
      "text/plain": [
       "'C:\\\\Users\\\\Acer\\\\.wdm\\\\drivers\\\\chromedriver\\\\win64\\\\127.0.6533.119\\\\chromedriver-win32/chromedriver.exe'"
      ]
     },
     "execution_count": 10,
     "metadata": {},
     "output_type": "execute_result"
    }
   ],
   "source": [
    "path = path.replace(\"THIRD_PARTY_NOTICES.chromedriver\", \"chromedriver.exe\")\n",
    "path"
   ]
  },
  {
   "cell_type": "code",
   "execution_count": 11,
   "id": "d05f3909-fc89-4492-bf18-14457997ea2a",
   "metadata": {},
   "outputs": [],
   "source": [
    "import os, requests, re, csv, json\n",
    "from selenium import webdriver\n",
    "from selenium.webdriver.chrome.service import Service\n",
    "from selenium.webdriver.common.by import By\n",
    "from webdriver_manager.chrome import ChromeDriverManager\n",
    "from time import sleep\n",
    "from Tele import SendPdf, TryAgainMsg\n",
    "# import pdfkit\n",
    "# from PyPDF2 import PdfWriter, PdfReader\n",
    "from Tele import SendPdf\n",
    "from csv import DictReader\n",
    "from img import convert_folder_to_pdf\n",
    "from selenium.common.exceptions import JavascriptException\n",
    "from selenium.webdriver.support.ui import WebDriverWait\n",
    "from selenium.webdriver.support import expected_conditions as EC\n",
    "\n",
    "if not os.path.exists('SS'):\n",
    "    os.mkdir('SS')\n",
    "\n",
    "if not os.path.exists('PDF'):\n",
    "    os.mkdir('PDF')\n",
    "\n",
    "with open('Config.json', 'r') as f:\n",
    "    config = json.load(f)\n",
    "\n",
    "url = config['url']\n",
    "email = config['email']\n",
    "pasw = config['password']\n",
    "apiToken = '6625435370:AAG2rib8Oplf02kzYp0eGNR-rlleoo338uE'\n",
    "chatID = '5491808070'\n",
    "\n",
    "download_directory = os.path.join(os.getcwd(), 'PDF')\n",
    "# 100.0.1216.0\n",
    "agent = 'Mozilla/5.0 (Windows NT 6.1) AppleWebKit/537.2 (KHTML, like Gecko) Chrome/100.0.1216.0 Safari/537.2'\n",
    "agent = \"Mozilla/5.0 (Windows NT 10.0; Win64; x64) AppleWebKit/537.36 (KHTML, like Gecko) Chrome/114.0.0.0 Safari/537.36\"\n",
    "\n",
    "def get_browser(headless=False, proxy=False):\n",
    "    path = ChromeDriverManager().install()\n",
    "    path = path.replace(\"THIRD_PARTY_NOTICES.chromedriver\", \"chromedriver.exe\")\n",
    "    s = Service(executable_path=path)\n",
    "    chrome_option = webdriver.ChromeOptions()\n",
    "    if headless:\n",
    "        chrome_option.add_argument('--headless')\n",
    "        chrome_option.add_argument(f'user-agent={agent}')\n",
    "\n",
    "    chrome_option.add_argument('--log-level=3')\n",
    "    chrome_option.page_load_strategy = 'eager'\n",
    "    chrome_option.add_argument('--ignore-certificate-errors')\n",
    "    chrome_option.add_argument('--ignore-ssl-errors')\n",
    "    chrome_option.add_argument('--ignore-certificate-errors-spki-list')\n",
    "    prefs = {\"profile.managed_default_content_settings.images\": 1}\n",
    "    chrome_option.add_experimental_option(\"prefs\", prefs)\n",
    "    chrome_option.add_experimental_option(\"useAutomationExtension\", False)\n",
    "    chrome_option.add_experimental_option(\"excludeSwitches\", [\"enable-automation\", \"enable-logging\"])\n",
    "    chrome_option.add_argument(\"--disable-web-security\")\n",
    "    driver = webdriver.Chrome(service=s, options=chrome_option)\n",
    "    return driver"
   ]
  },
  {
   "cell_type": "code",
   "execution_count": 12,
   "id": "61cb9f55-44db-49ea-a77d-fe6a873d1622",
   "metadata": {},
   "outputs": [],
   "source": [
    "driver = get_browser(headless=False)\n",
    "driver.get('https://www.carfaxonline.com/')"
   ]
  },
  {
   "cell_type": "code",
   "execution_count": 3,
   "id": "0fee8552-48ed-478b-93ec-0ff8fa801043",
   "metadata": {},
   "outputs": [],
   "source": [
    "width = driver.execute_script(\"return Math.max(document.body.scrollWidth, document.body.offsetWidth, document.documentElement.clientWidth, document.documentElement.scrollWidth, document.documentElement.offsetWidth);\")"
   ]
  },
  {
   "cell_type": "code",
   "execution_count": 4,
   "id": "8326a74c-eb7f-4fd7-b59c-ac3286d845c5",
   "metadata": {},
   "outputs": [
    {
     "data": {
      "text/plain": [
       "1036"
      ]
     },
     "execution_count": 4,
     "metadata": {},
     "output_type": "execute_result"
    }
   ],
   "source": [
    "width"
   ]
  },
  {
   "cell_type": "code",
   "execution_count": 21,
   "id": "1019639c-b164-4967-bb21-f314e14b32d1",
   "metadata": {},
   "outputs": [],
   "source": [
    "vin = \"3FA6P0LU7KR210642\"\n",
    "vin_input = driver.find_element(By.ID, 'vin')\n",
    "vin_input.clear()\n",
    "vin_input.send_keys(vin)\n",
    "submit = driver.find_element(By.ID, 'header_run_vhr_button')\n",
    "driver.execute_script(\"arguments[0].click();\", submit)"
   ]
  },
  {
   "cell_type": "code",
   "execution_count": 22,
   "id": "cfc80669-ae99-433f-bdd1-ebe625748fe9",
   "metadata": {},
   "outputs": [
    {
     "data": {
      "text/plain": [
       "2"
      ]
     },
     "execution_count": 22,
     "metadata": {},
     "output_type": "execute_result"
    }
   ],
   "source": [
    "len(driver.window_handles)"
   ]
  },
  {
   "cell_type": "code",
   "execution_count": 23,
   "id": "46e29bfe-1a16-40e9-9e1e-ac9461c9f2d8",
   "metadata": {},
   "outputs": [],
   "source": [
    "driver.switch_to.window(driver.window_handles[1])"
   ]
  },
  {
   "cell_type": "code",
   "execution_count": null,
   "id": "029ab194-82ea-4e79-aac3-5dfd1fa30835",
   "metadata": {},
   "outputs": [],
   "source": [
    "wait = WebDriverWait(driver, 120)  # Replace \"timeout_in_seconds\" with your desired wait time\n",
    "wait.until(EC.element_to_be_clickable((By.CLASS_NAME, \"report-header-print-button\")))"
   ]
  },
  {
   "cell_type": "code",
   "execution_count": null,
   "id": "7562978c-71b2-44e6-a4ce-7b4c60a126e7",
   "metadata": {},
   "outputs": [],
   "source": []
  },
  {
   "cell_type": "code",
   "execution_count": 15,
   "id": "12c4ab13-de4a-4adf-bbe1-6c2626ffeeb3",
   "metadata": {},
   "outputs": [],
   "source": [
    "width = driver.execute_script(\"return Math.max(document.body.scrollWidth, document.body.offsetWidth, document.documentElement.clientWidth, document.documentElement.scrollWidth, document.documentElement.offsetWidth);\")"
   ]
  },
  {
   "cell_type": "code",
   "execution_count": 16,
   "id": "8f42d6cf-900c-425e-9766-590526b54433",
   "metadata": {},
   "outputs": [
    {
     "data": {
      "text/plain": [
       "1019"
      ]
     },
     "execution_count": 16,
     "metadata": {},
     "output_type": "execute_result"
    }
   ],
   "source": [
    "width"
   ]
  },
  {
   "cell_type": "code",
   "execution_count": null,
   "id": "a4c16d15-dec9-4b87-b2c5-4bc8ac9b110d",
   "metadata": {},
   "outputs": [],
   "source": []
  }
 ],
 "metadata": {
  "kernelspec": {
   "display_name": "Python 3 (ipykernel)",
   "language": "python",
   "name": "python3"
  },
  "language_info": {
   "codemirror_mode": {
    "name": "ipython",
    "version": 3
   },
   "file_extension": ".py",
   "mimetype": "text/x-python",
   "name": "python",
   "nbconvert_exporter": "python",
   "pygments_lexer": "ipython3",
   "version": "3.11.8"
  }
 },
 "nbformat": 4,
 "nbformat_minor": 5
}
