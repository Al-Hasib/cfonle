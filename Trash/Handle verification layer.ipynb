{
 "cells": [
  {
   "cell_type": "code",
   "execution_count": 43,
   "id": "3068bdee-3e99-4410-94c0-fa924d937a7d",
   "metadata": {},
   "outputs": [],
   "source": [
    "import os, json\n",
    "from selenium import webdriver\n",
    "from selenium.webdriver.chrome.service import Service\n",
    "from selenium.webdriver.common.by import By\n",
    "from webdriver_manager.chrome import ChromeDriverManager\n",
    "from time import sleep\n",
    "from Tele import SendPdf, TryAgainMsg\n",
    "from Tele import SendPdf\n",
    "from img import convert_folder_to_pdf\n",
    "from selenium.webdriver.support.ui import WebDriverWait\n",
    "from selenium.webdriver.support import expected_conditions as EC\n",
    "from selenium.common.exceptions import NoSuchElementException"
   ]
  },
  {
   "cell_type": "code",
   "execution_count": 28,
   "id": "1c914460-8169-4bb8-b8d4-b4130f190125",
   "metadata": {},
   "outputs": [],
   "source": [
    "config = {\n",
    "  \"url\": \"https://www.carfaxonline.com/login\",\n",
    "  \"email\": \"007ziatab@gmail.com\",\n",
    "  \"password\": \"Ali@2020\"\n",
    "}"
   ]
  },
  {
   "cell_type": "code",
   "execution_count": 29,
   "id": "7b7f41ab-425c-4366-9d58-fcd4250ee49b",
   "metadata": {},
   "outputs": [],
   "source": [
    "url = config['url']\n",
    "email = config['email']\n",
    "pasw = config['password']\n",
    "\n",
    "# 100.0.1216.0\n",
    "agent = 'Mozilla/5.0 (Windows NT 6.1) AppleWebKit/537.2 (KHTML, like Gecko) Chrome/100.0.1216.0 Safari/537.2'\n",
    "agent = \"Mozilla/5.0 (Windows NT 10.0; Win64; x64) AppleWebKit/537.36 (KHTML, like Gecko) Chrome/114.0.0.0 Safari/537.36\"\n",
    "\n",
    "def get_browser(headless=True, proxy=False):\n",
    "    s = Service(executable_path=ChromeDriverManager().install())#\n",
    "    chrome_option = webdriver.ChromeOptions()\n",
    "    if headless:\n",
    "        chrome_option.add_argument('--headless')\n",
    "        chrome_option.add_argument(f'user-agent={agent}')\n",
    "\n",
    "    chrome_option.add_argument('--log-level=3')\n",
    "    chrome_option.page_load_strategy = \"none\"\n",
    "    chrome_option.add_argument('--ignore-certificate-errors')\n",
    "    chrome_option.add_argument('--ignore-ssl-errors')\n",
    "    chrome_option.add_argument('--ignore-certificate-errors-spki-list')\n",
    "    prefs = {\"profile.managed_default_content_settings.images\": 1}\n",
    "    chrome_option.add_experimental_option(\"prefs\", prefs)\n",
    "    chrome_option.add_experimental_option(\"useAutomationExtension\", False)\n",
    "    chrome_option.add_experimental_option(\"excludeSwitches\", [\"enable-automation\", \"enable-logging\"])\n",
    "    chrome_option.add_argument(\"--disable-web-security\")\n",
    "    driver = webdriver.Chrome(service=s, options=chrome_option)    \n",
    "    return driver"
   ]
  },
  {
   "cell_type": "code",
   "execution_count": 38,
   "id": "d85bd9c5-e6be-4d32-9aea-781180a43fe8",
   "metadata": {},
   "outputs": [],
   "source": [
    "driver = get_browser(headless=False)"
   ]
  },
  {
   "cell_type": "code",
   "execution_count": 39,
   "id": "9792992c-cdee-4921-8d65-878153503d9f",
   "metadata": {},
   "outputs": [],
   "source": [
    "driver.get(url)"
   ]
  },
  {
   "cell_type": "code",
   "execution_count": 40,
   "id": "aeb6d20c-941f-4b18-8370-87c1528a5023",
   "metadata": {},
   "outputs": [],
   "source": [
    "# driver.page_source"
   ]
  },
  {
   "cell_type": "markdown",
   "id": "8ba39b6e-e6ad-46bd-a0ef-75409333930c",
   "metadata": {},
   "source": [
    "# Login Page"
   ]
  },
  {
   "cell_type": "code",
   "execution_count": 41,
   "id": "3f9493c8-a033-4208-84e9-3baa804bfc9f",
   "metadata": {},
   "outputs": [],
   "source": [
    "driver.find_element(By.ID, 'username').send_keys(email)\n",
    "driver.find_element(By.ID, 'password').send_keys(pasw)\n",
    "    \n",
    "# Locate the login button by type and name\n",
    "login_button = driver.find_element(By.XPATH, \"//button[@type='submit' and @name='action']\")\n",
    "\n",
    "# Method 2: Using JavaScript executor\n",
    "driver.execute_script(\"arguments[0].click();\", login_button)"
   ]
  },
  {
   "cell_type": "markdown",
   "id": "19e0201a-d325-4727-b347-30510ae860ea",
   "metadata": {},
   "source": [
    "# Verification Page"
   ]
  },
  {
   "cell_type": "markdown",
   "id": "b5db2bea-6690-49d1-9813-6ef7e2642586",
   "metadata": {},
   "source": [
    "## Change Authentication Method"
   ]
  },
  {
   "cell_type": "code",
   "execution_count": 47,
   "id": "391b8130-c4f2-4fe8-b189-a754d248728c",
   "metadata": {},
   "outputs": [],
   "source": [
    "try_another_method_btn = driver.find_element(By.XPATH, \"//button[@type='submit' and @name='action' and @value='pick-authenticator']\")\n",
    "driver.execute_script(\"arguments[0].click();\", try_another_method_btn)"
   ]
  },
  {
   "cell_type": "markdown",
   "id": "b3153942-b023-43e1-bbb1-fe98fe3d99e8",
   "metadata": {},
   "source": [
    "## Select Email"
   ]
  },
  {
   "cell_type": "code",
   "execution_count": 48,
   "id": "6625f81d-c077-4018-a57a-5102cedc9456",
   "metadata": {},
   "outputs": [],
   "source": [
    "email_btn = driver.find_element(By.XPATH, \"//button[@type='submit' and @name='action' and @value='email::1']\")\n",
    "driver.execute_script(\"arguments[0].click();\", email_btn)"
   ]
  },
  {
   "cell_type": "markdown",
   "id": "a03484f3-db39-4612-8fc7-075a0e6b6c96",
   "metadata": {},
   "source": [
    "## Provide verification code"
   ]
  },
  {
   "cell_type": "code",
   "execution_count": 49,
   "id": "da3313a7-1a89-4e51-8cf1-c964d4cf4e06",
   "metadata": {},
   "outputs": [],
   "source": [
    "driver.find_element(By.ID, \"code\").send_keys(\"123456\")\n",
    "\n",
    "continue_btn = driver.find_element(By.XPATH, \"//button[@type='submit' and @name='action']\")\n",
    "driver.execute_script(\"arguments[0].click();\", continue_btn)"
   ]
  },
  {
   "cell_type": "code",
   "execution_count": null,
   "id": "48b2a709-891f-48b1-aa04-b6d0a3ed570a",
   "metadata": {},
   "outputs": [],
   "source": []
  },
  {
   "cell_type": "code",
   "execution_count": 50,
   "id": "d2c456bd-5e1a-4c84-8aa9-b17173720127",
   "metadata": {},
   "outputs": [
    {
     "name": "stdout",
     "output_type": "stream",
     "text": [
      "still need verification\n"
     ]
    }
   ],
   "source": [
    "try:\n",
    "    has_code = driver.find_element(By.ID, \"code\")\n",
    "    print(\"still need verification\")\n",
    "except NoSuchElementException:\n",
    "    print(\"Verification successful\")"
   ]
  },
  {
   "cell_type": "code",
   "execution_count": null,
   "id": "b8f78da4-7855-4e3e-95da-e607b41019a1",
   "metadata": {},
   "outputs": [],
   "source": []
  }
 ],
 "metadata": {
  "kernelspec": {
   "display_name": "Python 3 (ipykernel)",
   "language": "python",
   "name": "python3"
  },
  "language_info": {
   "codemirror_mode": {
    "name": "ipython",
    "version": 3
   },
   "file_extension": ".py",
   "mimetype": "text/x-python",
   "name": "python",
   "nbconvert_exporter": "python",
   "pygments_lexer": "ipython3",
   "version": "3.11.8"
  }
 },
 "nbformat": 4,
 "nbformat_minor": 5
}
